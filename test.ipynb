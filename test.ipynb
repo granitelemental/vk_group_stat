{
 "cells": [
  {
   "cell_type": "code",
   "execution_count": 1,
   "metadata": {},
   "outputs": [],
   "source": [
    "from flask import Flask, jsonify, request\n",
    "from app.models.User import User \n",
    "from app.models.db import session\n",
    "import io\n",
    "from app.schemas.User import UserSchema\n",
    "import pandas as pd\n",
    "from datetime import date\n",
    "from flask import Response\n",
    "from matplotlib.backends.backend_agg import FigureCanvasAgg as FigureCanvas\n",
    "import matplotlib.pyplot as plt\n",
    "\n",
    "def calculate_age(born):\n",
    "    today = date.today()\n",
    "    return today.year - born.year - ((today.month, today.day) < (born.month, born.day))\n",
    "\n",
    "def fig_to_response(fig):\n",
    "    output = io.BytesIO()\n",
    "    FigureCanvas(fig).print_png(output)\n",
    "    return Response(output.getvalue(), mimetype='image/png')"
   ]
  },
  {
   "cell_type": "code",
   "execution_count": 2,
   "metadata": {
    "scrolled": true
   },
   "outputs": [],
   "source": [
    "users = session.query(User).all()\n",
    "schema = UserSchema()\n",
    "users = schema.dump(users, many=True)\n",
    "result = pd.DataFrame(users)\n",
    "result[\"bdate\"] = pd.to_datetime(result[\"bdate\"])\n",
    "result[\"age\"] = result[\"bdate\"].apply(calculate_age)"
   ]
  },
  {
   "cell_type": "code",
   "execution_count": null,
   "metadata": {},
   "outputs": [],
   "source": []
  },
  {
   "cell_type": "code",
   "execution_count": null,
   "metadata": {},
   "outputs": [],
   "source": []
  },
  {
   "cell_type": "code",
   "execution_count": 10,
   "metadata": {},
   "outputs": [
    {
     "name": "stderr",
     "output_type": "stream",
     "text": [
      "/home/alena/.pyenv/versions/anaconda3-5.3.1/lib/python3.7/site-packages/ipykernel_launcher.py:5: UserWarning: Boolean Series key will be reindexed to match DataFrame index.\n",
      "  \"\"\"\n"
     ]
    },
    {
     "data": {
      "image/png": "[encoded data removed]",
      "text/plain": [
       "<Figure size 1080x720 with 1 Axes>"
      ]
     },
     "metadata": {
      "needs_background": "light"
     },
     "output_type": "display_data"
    }
   ],
   "source": [
    "fig = plt.figure(figsize=(15,10))\n",
    "pol = { 1: \"female\", \n",
    "       2: \"male\"}\n",
    "for p in pol:\n",
    "    result[result[\"sex\"]==p][result[\"age\"]<60][\"age\"].hist(bins=100, \n",
    "                                                           alpha=0.5,  \n",
    "                                                           label=f\"pol={pol[p]}\", \n",
    "                                                           log=False) \n",
    "plt.legend()\n",
    "plt.title(\"Age-gender distribution\")\n",
    "plt.xlabel(\"age (years)\")\n",
    "plt.ylabel(\"Total number of users\")\n",
    "response = fig_to_response(fig)"
   ]
  },
  {
   "cell_type": "code",
   "execution_count": null,
   "metadata": {},
   "outputs": [],
   "source": []
  },
  {
   "cell_type": "code",
   "execution_count": null,
   "metadata": {
    "scrolled": false
   },
   "outputs": [],
   "source": []
  },
  {
   "cell_type": "code",
   "execution_count": null,
   "metadata": {},
   "outputs": [],
   "source": []
  },
  {
   "cell_type": "code",
   "execution_count": null,
   "metadata": {},
   "outputs": [],
   "source": []
  }
 ],
 "metadata": {
  "kernelspec": {
   "display_name": "Python 3",
   "language": "python",
   "name": "python3"
  },
  "language_info": {
   "codemirror_mode": {
    "name": "ipython",
    "version": 3
   },
   "file_extension": ".py",
   "mimetype": "text/x-python",
   "name": "python",
   "nbconvert_exporter": "python",
   "pygments_lexer": "ipython3",
   "version": "3.7.0"
  }
 },
 "nbformat": 4,
 "nbformat_minor": 2
}
